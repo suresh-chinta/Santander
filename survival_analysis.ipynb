{
  "metadata": {
    "kernelspec": {
      "language": "python",
      "display_name": "Python 3",
      "name": "python3"
    },
    "language_info": {
      "name": "python",
      "version": "3.7.12",
      "mimetype": "text/x-python",
      "codemirror_mode": {
        "name": "ipython",
        "version": 3
      },
      "pygments_lexer": "ipython3",
      "nbconvert_exporter": "python",
      "file_extension": ".py"
    },
    "colab": {
      "name": "survival-analysis.ipynb",
      "provenance": [],
      "collapsed_sections": [],
      "include_colab_link": true
    }
  },
  "nbformat_minor": 0,
  "nbformat": 4,
  "cells": [
    {
      "cell_type": "markdown",
      "metadata": {
        "id": "view-in-github",
        "colab_type": "text"
      },
      "source": [
        "<a href=\"https://colab.research.google.com/github/suresh-chinta/Santander/blob/master/survival_analysis.ipynb\" target=\"_parent\"><img src=\"https://colab.research.google.com/assets/colab-badge.svg\" alt=\"Open In Colab\"/></a>"
      ]
    },
    {
      "cell_type": "code",
      "source": [
        "import numpy.random as random\n",
        "import numpy as np\n",
        "import pandas as pd # data processing, CSV file I/O (e.g. pd.read_csv)\n",
        "import matplotlib.pyplot as plt\n",
        "import lifelines\n",
        "from lifelines import KaplanMeierFitter\n",
        "class CFG:\n",
        "    seed = 42    \n",
        "    img_dim1 = 20\n",
        "    img_dim2 = 10\n",
        "\n",
        "    \n",
        "# adjust the parameters for displayed figures    \n",
        "plt.rcParams.update({'figure.figsize': (CFG.img_dim1,CFG.img_dim2)})   "
      ],
      "metadata": {
        "execution": {
          "iopub.status.busy": "2022-08-30T20:34:37.375010Z",
          "iopub.execute_input": "2022-08-30T20:34:37.375487Z",
          "iopub.status.idle": "2022-08-30T20:34:37.383409Z",
          "shell.execute_reply.started": "2022-08-30T20:34:37.375448Z",
          "shell.execute_reply": "2022-08-30T20:34:37.382312Z"
        },
        "trusted": true,
        "id": "2usk9O49hriY"
      },
      "execution_count": 8,
      "outputs": []
    },
    {
      "cell_type": "markdown",
      "source": [
        "# About Dataset\n",
        "\n",
        "## Why?\n",
        "\n",
        "  I have created a synthetic dataset for this assignment, as the datasets in public domain, have already been throughly explored\n",
        "  to be able to produce work that does not look like plagiarized. Besides, I think that creation of dataset is most important activity\n",
        "  to be done correctly for Survival Analysis, hence I have attempted to create a dataset by myself.\n",
        "  \n",
        "## What?\n",
        "  \n",
        "  The datset consists of 1000 couples who have married between 2005 and 2010 (inclusive). The couples are observed until 2022 January 1st, to see if they were seperated \n",
        "  legally by serving divorce. The objective of this to study years to seperation by divorce.There were also cases of death of one or both partners, during the \n",
        "  time between marriage and the year 2022.\n",
        "  \n",
        "* couple_id : Identifier for the couple/record\n",
        "* year_marriage : year of marriage\n",
        "* is_death : is atleast one of the partner died during study\n",
        "* death_year : year when death event happend\n",
        "* are_seperated : is the couple seperate by divorce (0 - not seperated until end of study or censored due to death, 1 - seperated during study)\n",
        "* year_seperated : year when divorced\n",
        "* years_together : years together before seperation or death\n",
        "* is_censored : 1 if no seperation until 2022 or death occured else 0\n",
        "* religion : 1 - Hinduism, 2 - Christianity, 3 - Islam, 4 - Other\n",
        "\n",
        "  \n",
        "  \n",
        "## Censoring  \n",
        "  \n",
        "  Hence the censoring happens for two reasons in this dataset:    \n",
        "*     Couples who have been observed until 2022, but not seperated. We do not know, if they are seperated beyond 2022.\n",
        "*     Couples who have experienced a death event and hence dropped from the study. We do not know, if they would be sperated had the event not occured.\n",
        "\n",
        "  \n",
        " The censoring is right censoring because, the true survival times is always equal to or greater than the observed survival time.\n",
        " \n",
        "## Assumption\n",
        "\n",
        "* Observations that were censored or not is NOT related to probability of event (divorce/seperation) occurance."
      ],
      "metadata": {
        "id": "k-_Z0P8Hhria"
      }
    },
    {
      "cell_type": "code",
      "source": [
        "import os"
      ],
      "metadata": {
        "id": "0jVy2NjDjgn4"
      },
      "execution_count": 30,
      "outputs": []
    },
    {
      "cell_type": "code",
      "source": [
        "os.listdir('.')"
      ],
      "metadata": {
        "colab": {
          "base_uri": "https://localhost:8080/"
        },
        "id": "EEsRpOvNjdbl",
        "outputId": "7d8c1d55-756e-43ed-9090-3023ad0a36b4"
      },
      "execution_count": 33,
      "outputs": [
        {
          "output_type": "execute_result",
          "data": {
            "text/plain": [
              "['.config', 'sample_data']"
            ]
          },
          "metadata": {},
          "execution_count": 33
        }
      ]
    },
    {
      "cell_type": "code",
      "source": [
        "!pwd()"
      ],
      "metadata": {
        "colab": {
          "base_uri": "https://localhost:8080/"
        },
        "id": "mkG3_rUJjnjt",
        "outputId": "26436ce6-7442-4462-a0c1-1fa6aaddfb56"
      },
      "execution_count": 34,
      "outputs": [
        {
          "output_type": "stream",
          "name": "stdout",
          "text": [
            "/bin/bash: -c: line 1: syntax error: unexpected end of file\n"
          ]
        }
      ]
    },
    {
      "cell_type": "markdown",
      "source": [
        "### Survival Analysis\n",
        "\n",
        "* The goal of this analysis to study number of years to Divorce in couples, that were married between 2005 and 2010\n",
        "* Survival analysis is special in that, even the cases that are not available for entire duration of observation period are not discorded\n",
        "* Different subjects may enter the study and exit from the study at different points in time\n",
        "\n",
        "\n",
        "\n"
      ],
      "metadata": {
        "id": "y_06C_G3hrib"
      }
    },
    {
      "cell_type": "markdown",
      "source": [
        "# DataSet generation"
      ],
      "metadata": {
        "id": "qS9B13kbhric"
      }
    },
    {
      "cell_type": "code",
      "source": [
        "couple_id = np.arange(1, 1001)\n",
        "year_marriage = random.random_integers(2005, 2010, size=1000)\n",
        "# 10% of couples have a death event\n",
        "is_death = np.random.choice([0,1], size = 1000, p=[0.9, 0.1])\n",
        "print(f'number of couples with death event: {sum(is_death)}')\n",
        "# 30% of couples (of those couples where both partners survived until that year) have divorce event (event of interest of this study)\n",
        "are_seperated = np.random.choice([0,1], size = 1000, p=[0.7, 0.3])\n",
        "# if death occured, they are not seperated\n",
        "are_seperated = np.where(is_death == 1, 0, are_seperated)\n",
        "religion = np.random.choice([1,2,3,4], size = 1000, p =[0.35, 0.2, 0.1, 0.35])\n",
        "print(f'number of couples with Divorce event: {sum(are_seperated)}')"
      ],
      "metadata": {
        "execution": {
          "iopub.status.busy": "2022-08-30T20:35:09.348717Z",
          "iopub.execute_input": "2022-08-30T20:35:09.349150Z",
          "iopub.status.idle": "2022-08-30T20:35:09.360350Z",
          "shell.execute_reply.started": "2022-08-30T20:35:09.349115Z",
          "shell.execute_reply": "2022-08-30T20:35:09.358986Z"
        },
        "trusted": true,
        "colab": {
          "base_uri": "https://localhost:8080/"
        },
        "id": "bgNr_8Zuhric",
        "outputId": "ee97c55c-044c-422b-c2c2-94e40bb3460a"
      },
      "execution_count": 9,
      "outputs": [
        {
          "output_type": "stream",
          "name": "stdout",
          "text": [
            "number of couples with death event: 74\n",
            "number of couples with Divorce event: 252\n"
          ]
        },
        {
          "output_type": "stream",
          "name": "stderr",
          "text": [
            "/usr/local/lib/python3.7/dist-packages/ipykernel_launcher.py:2: DeprecationWarning: This function is deprecated. Please call randint(2005, 2010 + 1) instead\n",
            "  \n"
          ]
        }
      ]
    },
    {
      "cell_type": "code",
      "source": [
        "def years_together(year_marriage_, are_seperated_, is_death_, death_year_):\n",
        "    # if death\n",
        "    if (is_death_ == 1):\n",
        "        return(death_year_ - year_marriage_)\n",
        "    \n",
        "    # if no seperation generate a random number between \n",
        "    if (are_seperated_ == 0):\n",
        "        return(2022 - year_marriage_)\n",
        "    else:\n",
        "        # if seperation generate a random number between year_marriage and 2022\n",
        "        return(np.random.choice(np.arange(1,(2022-year_marriage_))))\n",
        "    \n",
        "    \n",
        "\n",
        "df = pd.DataFrame({\n",
        "    'couple_id': couple_id,\n",
        "    #year couple married\n",
        "    'year_marriage': year_marriage,\n",
        "    # is the couple seperated by the observation year 2022\n",
        "    'are_seperated': are_seperated,\n",
        "    'is_death': is_death,\n",
        "    'religion' : religion\n",
        "})\n",
        "# years the couple is together since their marriage, until the observation year 2022 or until seperated\n",
        "# for seperated couples, number of years together is generated randomly \n",
        "df['death_year'] = df[['is_death', 'year_marriage']].apply(lambda x: 0 if x[0] == 0 else x[1] + np.random.choice(np.arange(1,(2022-x[1]))), axis = 1)\n",
        "df['years_together'] = df[['year_marriage','are_seperated', 'is_death', 'death_year']].apply(lambda x:years_together(x[0],x[1],x[2],x[3]), axis = 1)\n",
        "df['year_seperation'] = np.where(((df['is_death'] != 1) & (df['are_seperated'] == 1)), df['year_marriage'] + df['years_together'], 0)\n",
        "df['years_since_start'] = df['year_marriage'] - 2005\n",
        "df['is_censored'] = np.where(((df['is_death'] == 1) | (df['are_seperated'] == 0)), 1, 0)"
      ],
      "metadata": {
        "execution": {
          "iopub.status.busy": "2022-08-30T20:35:10.862374Z",
          "iopub.execute_input": "2022-08-30T20:35:10.863600Z",
          "iopub.status.idle": "2022-08-30T20:35:10.925884Z",
          "shell.execute_reply.started": "2022-08-30T20:35:10.863535Z",
          "shell.execute_reply": "2022-08-30T20:35:10.924668Z"
        },
        "trusted": true,
        "id": "gPcuUa_ohric"
      },
      "execution_count": 10,
      "outputs": []
    },
    {
      "cell_type": "markdown",
      "source": [
        "### EDA"
      ],
      "metadata": {
        "id": "1wuQ8U_uhrid"
      }
    },
    {
      "cell_type": "code",
      "source": [
        "import seaborn as sns"
      ],
      "metadata": {
        "execution": {
          "iopub.status.busy": "2022-08-30T20:35:16.154038Z",
          "iopub.execute_input": "2022-08-30T20:35:16.154455Z",
          "iopub.status.idle": "2022-08-30T20:35:16.159384Z",
          "shell.execute_reply.started": "2022-08-30T20:35:16.154420Z",
          "shell.execute_reply": "2022-08-30T20:35:16.158408Z"
        },
        "trusted": true,
        "id": "uctFANbkhrid"
      },
      "execution_count": 11,
      "outputs": []
    },
    {
      "cell_type": "code",
      "source": [
        "fig = plt.figure()\n",
        "fig.subplots_adjust(hspace=0.4, wspace=0.4)\n",
        "ax = fig.add_subplot(2, 2, 1)\n",
        "sns.countplot(x=df.are_seperated,ax=ax)\n",
        "ax = fig.add_subplot(2, 2, 2)\n",
        "sns.countplot(x=df.is_death,ax=ax)\n",
        "ax = fig.add_subplot(2, 2, 3)\n",
        "sns.countplot(x=df.religion,ax=ax)\n",
        "ax.set_xticklabels(ax.get_xticklabels(), rotation=90)\n",
        "ax = fig.add_subplot(2, 2, 4)\n",
        "sns.countplot(x=df.years_together,ax=ax)\n",
        "plt.show();"
      ],
      "metadata": {
        "execution": {
          "iopub.status.busy": "2022-08-30T20:35:17.635288Z",
          "iopub.execute_input": "2022-08-30T20:35:17.636260Z",
          "iopub.status.idle": "2022-08-30T20:35:18.193890Z",
          "shell.execute_reply.started": "2022-08-30T20:35:17.636204Z",
          "shell.execute_reply": "2022-08-30T20:35:18.192490Z"
        },
        "trusted": true,
        "colab": {
          "base_uri": "https://localhost:8080/",
          "height": 520
        },
        "id": "o184FyXfhrid",
        "outputId": "ce05b8ea-49f8-4613-c186-a4ee221c4d18"
      },
      "execution_count": 12,
      "outputs": [
        {
          "output_type": "display_data",
          "data": {
            "text/plain": [
              "<Figure size 1440x720 with 4 Axes>"
            ],
            "image/png": "[encoded data removed]"
          },
          "metadata": {
            "needs_background": "light"
          }
        }
      ]
    },
    {
      "cell_type": "code",
      "source": [
        "df.describe()"
      ],
      "metadata": {
        "execution": {
          "iopub.status.busy": "2022-08-30T20:35:30.124956Z",
          "iopub.execute_input": "2022-08-30T20:35:30.125344Z",
          "iopub.status.idle": "2022-08-30T20:35:30.171467Z",
          "shell.execute_reply.started": "2022-08-30T20:35:30.125311Z",
          "shell.execute_reply": "2022-08-30T20:35:30.169814Z"
        },
        "trusted": true,
        "colab": {
          "base_uri": "https://localhost:8080/",
          "height": 364
        },
        "id": "44ETfQTAhrid",
        "outputId": "798a9e58-ca90-42cf-86f1-3c144480e8af"
      },
      "execution_count": 13,
      "outputs": [
        {
          "output_type": "execute_result",
          "data": {
            "text/plain": [
              "         couple_id  year_marriage  are_seperated     is_death     religion  \\\n",
              "count  1000.000000    1000.000000    1000.000000  1000.000000  1000.000000   \n",
              "mean    500.500000    2007.525000       0.252000     0.074000     2.432000   \n",
              "std     288.819436       1.674568       0.434379     0.261902     1.266878   \n",
              "min       1.000000    2005.000000       0.000000     0.000000     1.000000   \n",
              "25%     250.750000    2006.000000       0.000000     0.000000     1.000000   \n",
              "50%     500.500000    2008.000000       0.000000     0.000000     2.000000   \n",
              "75%     750.250000    2009.000000       1.000000     0.000000     4.000000   \n",
              "max    1000.000000    2010.000000       1.000000     1.000000     4.000000   \n",
              "\n",
              "        death_year  years_together  year_seperation  years_since_start  \\\n",
              "count  1000.000000     1000.000000      1000.000000        1000.000000   \n",
              "mean    149.021000       12.031000       507.707000           2.525000   \n",
              "std     527.418592        4.404025       875.149044           1.674568   \n",
              "min       0.000000        1.000000         0.000000           0.000000   \n",
              "25%       0.000000       11.000000         0.000000           1.000000   \n",
              "50%       0.000000       13.000000         0.000000           3.000000   \n",
              "75%       0.000000       15.000000      2006.000000           4.000000   \n",
              "max    2021.000000       17.000000      2021.000000           5.000000   \n",
              "\n",
              "       is_censored  \n",
              "count  1000.000000  \n",
              "mean      0.748000  \n",
              "std       0.434379  \n",
              "min       0.000000  \n",
              "25%       0.000000  \n",
              "50%       1.000000  \n",
              "75%       1.000000  \n",
              "max       1.000000  "
            ],
            "text/html": [
              "\n",
              "  <div id=\"df-537a77dd-88b1-450c-87db-46532a561e21\">\n",
              "    <div class=\"colab-df-container\">\n",
              "      <div>\n",
              "<style scoped>\n",
              "    .dataframe tbody tr th:only-of-type {\n",
              "        vertical-align: middle;\n",
              "    }\n",
              "\n",
              "    .dataframe tbody tr th {\n",
              "        vertical-align: top;\n",
              "    }\n",
              "\n",
              "    .dataframe thead th {\n",
              "        text-align: right;\n",
              "    }\n",
              "</style>\n",
              "<table border=\"1\" class=\"dataframe\">\n",
              "  <thead>\n",
              "    <tr style=\"text-align: right;\">\n",
              "      <th></th>\n",
              "      <th>couple_id</th>\n",
              "      <th>year_marriage</th>\n",
              "      <th>are_seperated</th>\n",
              "      <th>is_death</th>\n",
              "      <th>religion</th>\n",
              "      <th>death_year</th>\n",
              "      <th>years_together</th>\n",
              "      <th>year_seperation</th>\n",
              "      <th>years_since_start</th>\n",
              "      <th>is_censored</th>\n",
              "    </tr>\n",
              "  </thead>\n",
              "  <tbody>\n",
              "    <tr>\n",
              "      <th>count</th>\n",
              "      <td>1000.000000</td>\n",
              "      <td>1000.000000</td>\n",
              "      <td>1000.000000</td>\n",
              "      <td>1000.000000</td>\n",
              "      <td>1000.000000</td>\n",
              "      <td>1000.000000</td>\n",
              "      <td>1000.000000</td>\n",
              "      <td>1000.000000</td>\n",
              "      <td>1000.000000</td>\n",
              "      <td>1000.000000</td>\n",
              "    </tr>\n",
              "    <tr>\n",
              "      <th>mean</th>\n",
              "      <td>500.500000</td>\n",
              "      <td>2007.525000</td>\n",
              "      <td>0.252000</td>\n",
              "      <td>0.074000</td>\n",
              "      <td>2.432000</td>\n",
              "      <td>149.021000</td>\n",
              "      <td>12.031000</td>\n",
              "      <td>507.707000</td>\n",
              "      <td>2.525000</td>\n",
              "      <td>0.748000</td>\n",
              "    </tr>\n",
              "    <tr>\n",
              "      <th>std</th>\n",
              "      <td>288.819436</td>\n",
              "      <td>1.674568</td>\n",
              "      <td>0.434379</td>\n",
              "      <td>0.261902</td>\n",
              "      <td>1.266878</td>\n",
              "      <td>527.418592</td>\n",
              "      <td>4.404025</td>\n",
              "      <td>875.149044</td>\n",
              "      <td>1.674568</td>\n",
              "      <td>0.434379</td>\n",
              "    </tr>\n",
              "    <tr>\n",
              "      <th>min</th>\n",
              "      <td>1.000000</td>\n",
              "      <td>2005.000000</td>\n",
              "      <td>0.000000</td>\n",
              "      <td>0.000000</td>\n",
              "      <td>1.000000</td>\n",
              "      <td>0.000000</td>\n",
              "      <td>1.000000</td>\n",
              "      <td>0.000000</td>\n",
              "      <td>0.000000</td>\n",
              "      <td>0.000000</td>\n",
              "    </tr>\n",
              "    <tr>\n",
              "      <th>25%</th>\n",
              "      <td>250.750000</td>\n",
              "      <td>2006.000000</td>\n",
              "      <td>0.000000</td>\n",
              "      <td>0.000000</td>\n",
              "      <td>1.000000</td>\n",
              "      <td>0.000000</td>\n",
              "      <td>11.000000</td>\n",
              "      <td>0.000000</td>\n",
              "      <td>1.000000</td>\n",
              "      <td>0.000000</td>\n",
              "    </tr>\n",
              "    <tr>\n",
              "      <th>50%</th>\n",
              "      <td>500.500000</td>\n",
              "      <td>2008.000000</td>\n",
              "      <td>0.000000</td>\n",
              "      <td>0.000000</td>\n",
              "      <td>2.000000</td>\n",
              "      <td>0.000000</td>\n",
              "      <td>13.000000</td>\n",
              "      <td>0.000000</td>\n",
              "      <td>3.000000</td>\n",
              "      <td>1.000000</td>\n",
              "    </tr>\n",
              "    <tr>\n",
              "      <th>75%</th>\n",
              "      <td>750.250000</td>\n",
              "      <td>2009.000000</td>\n",
              "      <td>1.000000</td>\n",
              "      <td>0.000000</td>\n",
              "      <td>4.000000</td>\n",
              "      <td>0.000000</td>\n",
              "      <td>15.000000</td>\n",
              "      <td>2006.000000</td>\n",
              "      <td>4.000000</td>\n",
              "      <td>1.000000</td>\n",
              "    </tr>\n",
              "    <tr>\n",
              "      <th>max</th>\n",
              "      <td>1000.000000</td>\n",
              "      <td>2010.000000</td>\n",
              "      <td>1.000000</td>\n",
              "      <td>1.000000</td>\n",
              "      <td>4.000000</td>\n",
              "      <td>2021.000000</td>\n",
              "      <td>17.000000</td>\n",
              "      <td>2021.000000</td>\n",
              "      <td>5.000000</td>\n",
              "      <td>1.000000</td>\n",
              "    </tr>\n",
              "  </tbody>\n",
              "</table>\n",
              "</div>\n",
              "      <button class=\"colab-df-convert\" onclick=\"convertToInteractive('df-537a77dd-88b1-450c-87db-46532a561e21')\"\n",
              "              title=\"Convert this dataframe to an interactive table.\"\n",
              "              style=\"display:none;\">\n",
              "        \n",
              "  <svg xmlns=\"http://www.w3.org/2000/svg\" height=\"24px\"viewBox=\"0 0 24 24\"\n",
              "       width=\"24px\">\n",
              "    <path d=\"M0 0h24v24H0V0z\" fill=\"none\"/>\n",
              "    <path d=\"M18.56 5.44l.94 2.06.94-2.06 2.06-.94-2.06-.94-.94-2.06-.94 2.06-2.06.94zm-11 1L8.5 8.5l.94-2.06 2.06-.94-2.06-.94L8.5 2.5l-.94 2.06-2.06.94zm10 10l.94 2.06.94-2.06 2.06-.94-2.06-.94-.94-2.06-.94 2.06-2.06.94z\"/><path d=\"M17.41 7.96l-1.37-1.37c-.4-.4-.92-.59-1.43-.59-.52 0-1.04.2-1.43.59L10.3 9.45l-7.72 7.72c-.78.78-.78 2.05 0 2.83L4 21.41c.39.39.9.59 1.41.59.51 0 1.02-.2 1.41-.59l7.78-7.78 2.81-2.81c.8-.78.8-2.07 0-2.86zM5.41 20L4 18.59l7.72-7.72 1.47 1.35L5.41 20z\"/>\n",
              "  </svg>\n",
              "      </button>\n",
              "      \n",
              "  <style>\n",
              "    .colab-df-container {\n",
              "      display:flex;\n",
              "      flex-wrap:wrap;\n",
              "      gap: 12px;\n",
              "    }\n",
              "\n",
              "    .colab-df-convert {\n",
              "      background-color: #E8F0FE;\n",
              "      border: none;\n",
              "      border-radius: 50%;\n",
              "      cursor: pointer;\n",
              "      display: none;\n",
              "      fill: #1967D2;\n",
              "      height: 32px;\n",
              "      padding: 0 0 0 0;\n",
              "      width: 32px;\n",
              "    }\n",
              "\n",
              "    .colab-df-convert:hover {\n",
              "      background-color: #E2EBFA;\n",
              "      box-shadow: 0px 1px 2px rgba(60, 64, 67, 0.3), 0px 1px 3px 1px rgba(60, 64, 67, 0.15);\n",
              "      fill: #174EA6;\n",
              "    }\n",
              "\n",
              "    [theme=dark] .colab-df-convert {\n",
              "      background-color: #3B4455;\n",
              "      fill: #D2E3FC;\n",
              "    }\n",
              "\n",
              "    [theme=dark] .colab-df-convert:hover {\n",
              "      background-color: #434B5C;\n",
              "      box-shadow: 0px 1px 3px 1px rgba(0, 0, 0, 0.15);\n",
              "      filter: drop-shadow(0px 1px 2px rgba(0, 0, 0, 0.3));\n",
              "      fill: #FFFFFF;\n",
              "    }\n",
              "  </style>\n",
              "\n",
              "      <script>\n",
              "        const buttonEl =\n",
              "          document.querySelector('#df-537a77dd-88b1-450c-87db-46532a561e21 button.colab-df-convert');\n",
              "        buttonEl.style.display =\n",
              "          google.colab.kernel.accessAllowed ? 'block' : 'none';\n",
              "\n",
              "        async function convertToInteractive(key) {\n",
              "          const element = document.querySelector('#df-537a77dd-88b1-450c-87db-46532a561e21');\n",
              "          const dataTable =\n",
              "            await google.colab.kernel.invokeFunction('convertToInteractive',\n",
              "                                                     [key], {});\n",
              "          if (!dataTable) return;\n",
              "\n",
              "          const docLinkHtml = 'Like what you see? Visit the ' +\n",
              "            '<a target=\"_blank\" href=https://colab.research.google.com/notebooks/data_table.ipynb>data table notebook</a>'\n",
              "            + ' to learn more about interactive tables.';\n",
              "          element.innerHTML = '';\n",
              "          dataTable['output_type'] = 'display_data';\n",
              "          await google.colab.output.renderOutput(dataTable, element);\n",
              "          const docLink = document.createElement('div');\n",
              "          docLink.innerHTML = docLinkHtml;\n",
              "          element.appendChild(docLink);\n",
              "        }\n",
              "      </script>\n",
              "    </div>\n",
              "  </div>\n",
              "  "
            ]
          },
          "metadata": {},
          "execution_count": 13
        }
      ]
    },
    {
      "cell_type": "code",
      "source": [
        "# none who have this combination, which is as it should be \n",
        "df.loc[((df['is_death'] == 1) & (df['are_seperated'] == 1))]"
      ],
      "metadata": {
        "execution": {
          "iopub.status.busy": "2022-08-30T20:35:45.288015Z",
          "iopub.execute_input": "2022-08-30T20:35:45.288432Z",
          "iopub.status.idle": "2022-08-30T20:35:45.300782Z",
          "shell.execute_reply.started": "2022-08-30T20:35:45.288397Z",
          "shell.execute_reply": "2022-08-30T20:35:45.299386Z"
        },
        "trusted": true,
        "colab": {
          "base_uri": "https://localhost:8080/",
          "height": 113
        },
        "id": "ebQ_KSDxhrie",
        "outputId": "38ada9e3-c3da-4f80-eb1f-d9f95d7ec8f5"
      },
      "execution_count": 14,
      "outputs": [
        {
          "output_type": "execute_result",
          "data": {
            "text/plain": [
              "Empty DataFrame\n",
              "Columns: [couple_id, year_marriage, are_seperated, is_death, religion, death_year, years_together, year_seperation, years_since_start, is_censored]\n",
              "Index: []"
            ],
            "text/html": [
              "\n",
              "  <div id=\"df-612b1702-862e-4c0e-89bb-aa58747ac1bc\">\n",
              "    <div class=\"colab-df-container\">\n",
              "      <div>\n",
              "<style scoped>\n",
              "    .dataframe tbody tr th:only-of-type {\n",
              "        vertical-align: middle;\n",
              "    }\n",
              "\n",
              "    .dataframe tbody tr th {\n",
              "        vertical-align: top;\n",
              "    }\n",
              "\n",
              "    .dataframe thead th {\n",
              "        text-align: right;\n",
              "    }\n",
              "</style>\n",
              "<table border=\"1\" class=\"dataframe\">\n",
              "  <thead>\n",
              "    <tr style=\"text-align: right;\">\n",
              "      <th></th>\n",
              "      <th>couple_id</th>\n",
              "      <th>year_marriage</th>\n",
              "      <th>are_seperated</th>\n",
              "      <th>is_death</th>\n",
              "      <th>religion</th>\n",
              "      <th>death_year</th>\n",
              "      <th>years_together</th>\n",
              "      <th>year_seperation</th>\n",
              "      <th>years_since_start</th>\n",
              "      <th>is_censored</th>\n",
              "    </tr>\n",
              "  </thead>\n",
              "  <tbody>\n",
              "  </tbody>\n",
              "</table>\n",
              "</div>\n",
              "      <button class=\"colab-df-convert\" onclick=\"convertToInteractive('df-612b1702-862e-4c0e-89bb-aa58747ac1bc')\"\n",
              "              title=\"Convert this dataframe to an interactive table.\"\n",
              "              style=\"display:none;\">\n",
              "        \n",
              "  <svg xmlns=\"http://www.w3.org/2000/svg\" height=\"24px\"viewBox=\"0 0 24 24\"\n",
              "       width=\"24px\">\n",
              "    <path d=\"M0 0h24v24H0V0z\" fill=\"none\"/>\n",
              "    <path d=\"M18.56 5.44l.94 2.06.94-2.06 2.06-.94-2.06-.94-.94-2.06-.94 2.06-2.06.94zm-11 1L8.5 8.5l.94-2.06 2.06-.94-2.06-.94L8.5 2.5l-.94 2.06-2.06.94zm10 10l.94 2.06.94-2.06 2.06-.94-2.06-.94-.94-2.06-.94 2.06-2.06.94z\"/><path d=\"M17.41 7.96l-1.37-1.37c-.4-.4-.92-.59-1.43-.59-.52 0-1.04.2-1.43.59L10.3 9.45l-7.72 7.72c-.78.78-.78 2.05 0 2.83L4 21.41c.39.39.9.59 1.41.59.51 0 1.02-.2 1.41-.59l7.78-7.78 2.81-2.81c.8-.78.8-2.07 0-2.86zM5.41 20L4 18.59l7.72-7.72 1.47 1.35L5.41 20z\"/>\n",
              "  </svg>\n",
              "      </button>\n",
              "      \n",
              "  <style>\n",
              "    .colab-df-container {\n",
              "      display:flex;\n",
              "      flex-wrap:wrap;\n",
              "      gap: 12px;\n",
              "    }\n",
              "\n",
              "    .colab-df-convert {\n",
              "      background-color: #E8F0FE;\n",
              "      border: none;\n",
              "      border-radius: 50%;\n",
              "      cursor: pointer;\n",
              "      display: none;\n",
              "      fill: #1967D2;\n",
              "      height: 32px;\n",
              "      padding: 0 0 0 0;\n",
              "      width: 32px;\n",
              "    }\n",
              "\n",
              "    .colab-df-convert:hover {\n",
              "      background-color: #E2EBFA;\n",
              "      box-shadow: 0px 1px 2px rgba(60, 64, 67, 0.3), 0px 1px 3px 1px rgba(60, 64, 67, 0.15);\n",
              "      fill: #174EA6;\n",
              "    }\n",
              "\n",
              "    [theme=dark] .colab-df-convert {\n",
              "      background-color: #3B4455;\n",
              "      fill: #D2E3FC;\n",
              "    }\n",
              "\n",
              "    [theme=dark] .colab-df-convert:hover {\n",
              "      background-color: #434B5C;\n",
              "      box-shadow: 0px 1px 3px 1px rgba(0, 0, 0, 0.15);\n",
              "      filter: drop-shadow(0px 1px 2px rgba(0, 0, 0, 0.3));\n",
              "      fill: #FFFFFF;\n",
              "    }\n",
              "  </style>\n",
              "\n",
              "      <script>\n",
              "        const buttonEl =\n",
              "          document.querySelector('#df-612b1702-862e-4c0e-89bb-aa58747ac1bc button.colab-df-convert');\n",
              "        buttonEl.style.display =\n",
              "          google.colab.kernel.accessAllowed ? 'block' : 'none';\n",
              "\n",
              "        async function convertToInteractive(key) {\n",
              "          const element = document.querySelector('#df-612b1702-862e-4c0e-89bb-aa58747ac1bc');\n",
              "          const dataTable =\n",
              "            await google.colab.kernel.invokeFunction('convertToInteractive',\n",
              "                                                     [key], {});\n",
              "          if (!dataTable) return;\n",
              "\n",
              "          const docLinkHtml = 'Like what you see? Visit the ' +\n",
              "            '<a target=\"_blank\" href=https://colab.research.google.com/notebooks/data_table.ipynb>data table notebook</a>'\n",
              "            + ' to learn more about interactive tables.';\n",
              "          element.innerHTML = '';\n",
              "          dataTable['output_type'] = 'display_data';\n",
              "          await google.colab.output.renderOutput(dataTable, element);\n",
              "          const docLink = document.createElement('div');\n",
              "          docLink.innerHTML = docLinkHtml;\n",
              "          element.appendChild(docLink);\n",
              "        }\n",
              "      </script>\n",
              "    </div>\n",
              "  </div>\n",
              "  "
            ]
          },
          "metadata": {},
          "execution_count": 14
        }
      ]
    },
    {
      "cell_type": "code",
      "source": [
        "df.loc[df['are_seperated'] == 0].head()"
      ],
      "metadata": {
        "execution": {
          "iopub.status.busy": "2022-08-30T20:35:46.738587Z",
          "iopub.execute_input": "2022-08-30T20:35:46.739582Z",
          "iopub.status.idle": "2022-08-30T20:35:46.754249Z",
          "shell.execute_reply.started": "2022-08-30T20:35:46.739527Z",
          "shell.execute_reply": "2022-08-30T20:35:46.753102Z"
        },
        "trusted": true,
        "colab": {
          "base_uri": "https://localhost:8080/",
          "height": 270
        },
        "id": "rL2QBKozhrie",
        "outputId": "d43a230a-5de0-41a8-d3f5-64435075afaa"
      },
      "execution_count": 15,
      "outputs": [
        {
          "output_type": "execute_result",
          "data": {
            "text/plain": [
              "   couple_id  year_marriage  are_seperated  is_death  religion  death_year  \\\n",
              "1          2           2007              0         0         4           0   \n",
              "3          4           2009              0         0         4           0   \n",
              "4          5           2010              0         0         3           0   \n",
              "7          8           2007              0         0         4           0   \n",
              "8          9           2008              0         0         2           0   \n",
              "\n",
              "   years_together  year_seperation  years_since_start  is_censored  \n",
              "1              15                0                  2            1  \n",
              "3              13                0                  4            1  \n",
              "4              12                0                  5            1  \n",
              "7              15                0                  2            1  \n",
              "8              14                0                  3            1  "
            ],
            "text/html": [
              "\n",
              "  <div id=\"df-78e9b63f-760a-407c-bf7a-9e3c508f8a20\">\n",
              "    <div class=\"colab-df-container\">\n",
              "      <div>\n",
              "<style scoped>\n",
              "    .dataframe tbody tr th:only-of-type {\n",
              "        vertical-align: middle;\n",
              "    }\n",
              "\n",
              "    .dataframe tbody tr th {\n",
              "        vertical-align: top;\n",
              "    }\n",
              "\n",
              "    .dataframe thead th {\n",
              "        text-align: right;\n",
              "    }\n",
              "</style>\n",
              "<table border=\"1\" class=\"dataframe\">\n",
              "  <thead>\n",
              "    <tr style=\"text-align: right;\">\n",
              "      <th></th>\n",
              "      <th>couple_id</th>\n",
              "      <th>year_marriage</th>\n",
              "      <th>are_seperated</th>\n",
              "      <th>is_death</th>\n",
              "      <th>religion</th>\n",
              "      <th>death_year</th>\n",
              "      <th>years_together</th>\n",
              "      <th>year_seperation</th>\n",
              "      <th>years_since_start</th>\n",
              "      <th>is_censored</th>\n",
              "    </tr>\n",
              "  </thead>\n",
              "  <tbody>\n",
              "    <tr>\n",
              "      <th>1</th>\n",
              "      <td>2</td>\n",
              "      <td>2007</td>\n",
              "      <td>0</td>\n",
              "      <td>0</td>\n",
              "      <td>4</td>\n",
              "      <td>0</td>\n",
              "      <td>15</td>\n",
              "      <td>0</td>\n",
              "      <td>2</td>\n",
              "      <td>1</td>\n",
              "    </tr>\n",
              "    <tr>\n",
              "      <th>3</th>\n",
              "      <td>4</td>\n",
              "      <td>2009</td>\n",
              "      <td>0</td>\n",
              "      <td>0</td>\n",
              "      <td>4</td>\n",
              "      <td>0</td>\n",
              "      <td>13</td>\n",
              "      <td>0</td>\n",
              "      <td>4</td>\n",
              "      <td>1</td>\n",
              "    </tr>\n",
              "    <tr>\n",
              "      <th>4</th>\n",
              "      <td>5</td>\n",
              "      <td>2010</td>\n",
              "      <td>0</td>\n",
              "      <td>0</td>\n",
              "      <td>3</td>\n",
              "      <td>0</td>\n",
              "      <td>12</td>\n",
              "      <td>0</td>\n",
              "      <td>5</td>\n",
              "      <td>1</td>\n",
              "    </tr>\n",
              "    <tr>\n",
              "      <th>7</th>\n",
              "      <td>8</td>\n",
              "      <td>2007</td>\n",
              "      <td>0</td>\n",
              "      <td>0</td>\n",
              "      <td>4</td>\n",
              "      <td>0</td>\n",
              "      <td>15</td>\n",
              "      <td>0</td>\n",
              "      <td>2</td>\n",
              "      <td>1</td>\n",
              "    </tr>\n",
              "    <tr>\n",
              "      <th>8</th>\n",
              "      <td>9</td>\n",
              "      <td>2008</td>\n",
              "      <td>0</td>\n",
              "      <td>0</td>\n",
              "      <td>2</td>\n",
              "      <td>0</td>\n",
              "      <td>14</td>\n",
              "      <td>0</td>\n",
              "      <td>3</td>\n",
              "      <td>1</td>\n",
              "    </tr>\n",
              "  </tbody>\n",
              "</table>\n",
              "</div>\n",
              "      <button class=\"colab-df-convert\" onclick=\"convertToInteractive('df-78e9b63f-760a-407c-bf7a-9e3c508f8a20')\"\n",
              "              title=\"Convert this dataframe to an interactive table.\"\n",
              "              style=\"display:none;\">\n",
              "        \n",
              "  <svg xmlns=\"http://www.w3.org/2000/svg\" height=\"24px\"viewBox=\"0 0 24 24\"\n",
              "       width=\"24px\">\n",
              "    <path d=\"M0 0h24v24H0V0z\" fill=\"none\"/>\n",
              "    <path d=\"M18.56 5.44l.94 2.06.94-2.06 2.06-.94-2.06-.94-.94-2.06-.94 2.06-2.06.94zm-11 1L8.5 8.5l.94-2.06 2.06-.94-2.06-.94L8.5 2.5l-.94 2.06-2.06.94zm10 10l.94 2.06.94-2.06 2.06-.94-2.06-.94-.94-2.06-.94 2.06-2.06.94z\"/><path d=\"M17.41 7.96l-1.37-1.37c-.4-.4-.92-.59-1.43-.59-.52 0-1.04.2-1.43.59L10.3 9.45l-7.72 7.72c-.78.78-.78 2.05 0 2.83L4 21.41c.39.39.9.59 1.41.59.51 0 1.02-.2 1.41-.59l7.78-7.78 2.81-2.81c.8-.78.8-2.07 0-2.86zM5.41 20L4 18.59l7.72-7.72 1.47 1.35L5.41 20z\"/>\n",
              "  </svg>\n",
              "      </button>\n",
              "      \n",
              "  <style>\n",
              "    .colab-df-container {\n",
              "      display:flex;\n",
              "      flex-wrap:wrap;\n",
              "      gap: 12px;\n",
              "    }\n",
              "\n",
              "    .colab-df-convert {\n",
              "      background-color: #E8F0FE;\n",
              "      border: none;\n",
              "      border-radius: 50%;\n",
              "      cursor: pointer;\n",
              "      display: none;\n",
              "      fill: #1967D2;\n",
              "      height: 32px;\n",
              "      padding: 0 0 0 0;\n",
              "      width: 32px;\n",
              "    }\n",
              "\n",
              "    .colab-df-convert:hover {\n",
              "      background-color: #E2EBFA;\n",
              "      box-shadow: 0px 1px 2px rgba(60, 64, 67, 0.3), 0px 1px 3px 1px rgba(60, 64, 67, 0.15);\n",
              "      fill: #174EA6;\n",
              "    }\n",
              "\n",
              "    [theme=dark] .colab-df-convert {\n",
              "      background-color: #3B4455;\n",
              "      fill: #D2E3FC;\n",
              "    }\n",
              "\n",
              "    [theme=dark] .colab-df-convert:hover {\n",
              "      background-color: #434B5C;\n",
              "      box-shadow: 0px 1px 3px 1px rgba(0, 0, 0, 0.15);\n",
              "      filter: drop-shadow(0px 1px 2px rgba(0, 0, 0, 0.3));\n",
              "      fill: #FFFFFF;\n",
              "    }\n",
              "  </style>\n",
              "\n",
              "      <script>\n",
              "        const buttonEl =\n",
              "          document.querySelector('#df-78e9b63f-760a-407c-bf7a-9e3c508f8a20 button.colab-df-convert');\n",
              "        buttonEl.style.display =\n",
              "          google.colab.kernel.accessAllowed ? 'block' : 'none';\n",
              "\n",
              "        async function convertToInteractive(key) {\n",
              "          const element = document.querySelector('#df-78e9b63f-760a-407c-bf7a-9e3c508f8a20');\n",
              "          const dataTable =\n",
              "            await google.colab.kernel.invokeFunction('convertToInteractive',\n",
              "                                                     [key], {});\n",
              "          if (!dataTable) return;\n",
              "\n",
              "          const docLinkHtml = 'Like what you see? Visit the ' +\n",
              "            '<a target=\"_blank\" href=https://colab.research.google.com/notebooks/data_table.ipynb>data table notebook</a>'\n",
              "            + ' to learn more about interactive tables.';\n",
              "          element.innerHTML = '';\n",
              "          dataTable['output_type'] = 'display_data';\n",
              "          await google.colab.output.renderOutput(dataTable, element);\n",
              "          const docLink = document.createElement('div');\n",
              "          docLink.innerHTML = docLinkHtml;\n",
              "          element.appendChild(docLink);\n",
              "        }\n",
              "      </script>\n",
              "    </div>\n",
              "  </div>\n",
              "  "
            ]
          },
          "metadata": {},
          "execution_count": 15
        }
      ]
    },
    {
      "cell_type": "code",
      "source": [
        "df.loc[df['are_seperated'] == 1].head()"
      ],
      "metadata": {
        "execution": {
          "iopub.status.busy": "2022-08-30T20:36:01.915430Z",
          "iopub.execute_input": "2022-08-30T20:36:01.915822Z",
          "iopub.status.idle": "2022-08-30T20:36:01.931115Z",
          "shell.execute_reply.started": "2022-08-30T20:36:01.915787Z",
          "shell.execute_reply": "2022-08-30T20:36:01.929909Z"
        },
        "trusted": true,
        "colab": {
          "base_uri": "https://localhost:8080/",
          "height": 270
        },
        "id": "exjT1wsFhrie",
        "outputId": "28e0ba2c-7a7b-47db-a0ef-48d06e17bc2e"
      },
      "execution_count": 16,
      "outputs": [
        {
          "output_type": "execute_result",
          "data": {
            "text/plain": [
              "    couple_id  year_marriage  are_seperated  is_death  religion  death_year  \\\n",
              "0           1           2008              1         0         4           0   \n",
              "2           3           2005              1         0         2           0   \n",
              "5           6           2007              1         0         2           0   \n",
              "6           7           2006              1         0         1           0   \n",
              "13         14           2007              1         0         1           0   \n",
              "\n",
              "    years_together  year_seperation  years_since_start  is_censored  \n",
              "0               12             2020                  3            0  \n",
              "2                9             2014                  0            0  \n",
              "5                5             2012                  2            0  \n",
              "6                4             2010                  1            0  \n",
              "13              10             2017                  2            0  "
            ],
            "text/html": [
              "\n",
              "  <div id=\"df-22f6bb38-6f83-4070-9eba-0d8d0367894f\">\n",
              "    <div class=\"colab-df-container\">\n",
              "      <div>\n",
              "<style scoped>\n",
              "    .dataframe tbody tr th:only-of-type {\n",
              "        vertical-align: middle;\n",
              "    }\n",
              "\n",
              "    .dataframe tbody tr th {\n",
              "        vertical-align: top;\n",
              "    }\n",
              "\n",
              "    .dataframe thead th {\n",
              "        text-align: right;\n",
              "    }\n",
              "</style>\n",
              "<table border=\"1\" class=\"dataframe\">\n",
              "  <thead>\n",
              "    <tr style=\"text-align: right;\">\n",
              "      <th></th>\n",
              "      <th>couple_id</th>\n",
              "      <th>year_marriage</th>\n",
              "      <th>are_seperated</th>\n",
              "      <th>is_death</th>\n",
              "      <th>religion</th>\n",
              "      <th>death_year</th>\n",
              "      <th>years_together</th>\n",
              "      <th>year_seperation</th>\n",
              "      <th>years_since_start</th>\n",
              "      <th>is_censored</th>\n",
              "    </tr>\n",
              "  </thead>\n",
              "  <tbody>\n",
              "    <tr>\n",
              "      <th>0</th>\n",
              "      <td>1</td>\n",
              "      <td>2008</td>\n",
              "      <td>1</td>\n",
              "      <td>0</td>\n",
              "      <td>4</td>\n",
              "      <td>0</td>\n",
              "      <td>12</td>\n",
              "      <td>2020</td>\n",
              "      <td>3</td>\n",
              "      <td>0</td>\n",
              "    </tr>\n",
              "    <tr>\n",
              "      <th>2</th>\n",
              "      <td>3</td>\n",
              "      <td>2005</td>\n",
              "      <td>1</td>\n",
              "      <td>0</td>\n",
              "      <td>2</td>\n",
              "      <td>0</td>\n",
              "      <td>9</td>\n",
              "      <td>2014</td>\n",
              "      <td>0</td>\n",
              "      <td>0</td>\n",
              "    </tr>\n",
              "    <tr>\n",
              "      <th>5</th>\n",
              "      <td>6</td>\n",
              "      <td>2007</td>\n",
              "      <td>1</td>\n",
              "      <td>0</td>\n",
              "      <td>2</td>\n",
              "      <td>0</td>\n",
              "      <td>5</td>\n",
              "      <td>2012</td>\n",
              "      <td>2</td>\n",
              "      <td>0</td>\n",
              "    </tr>\n",
              "    <tr>\n",
              "      <th>6</th>\n",
              "      <td>7</td>\n",
              "      <td>2006</td>\n",
              "      <td>1</td>\n",
              "      <td>0</td>\n",
              "      <td>1</td>\n",
              "      <td>0</td>\n",
              "      <td>4</td>\n",
              "      <td>2010</td>\n",
              "      <td>1</td>\n",
              "      <td>0</td>\n",
              "    </tr>\n",
              "    <tr>\n",
              "      <th>13</th>\n",
              "      <td>14</td>\n",
              "      <td>2007</td>\n",
              "      <td>1</td>\n",
              "      <td>0</td>\n",
              "      <td>1</td>\n",
              "      <td>0</td>\n",
              "      <td>10</td>\n",
              "      <td>2017</td>\n",
              "      <td>2</td>\n",
              "      <td>0</td>\n",
              "    </tr>\n",
              "  </tbody>\n",
              "</table>\n",
              "</div>\n",
              "      <button class=\"colab-df-convert\" onclick=\"convertToInteractive('df-22f6bb38-6f83-4070-9eba-0d8d0367894f')\"\n",
              "              title=\"Convert this dataframe to an interactive table.\"\n",
              "              style=\"display:none;\">\n",
              "        \n",
              "  <svg xmlns=\"http://www.w3.org/2000/svg\" height=\"24px\"viewBox=\"0 0 24 24\"\n",
              "       width=\"24px\">\n",
              "    <path d=\"M0 0h24v24H0V0z\" fill=\"none\"/>\n",
              "    <path d=\"M18.56 5.44l.94 2.06.94-2.06 2.06-.94-2.06-.94-.94-2.06-.94 2.06-2.06.94zm-11 1L8.5 8.5l.94-2.06 2.06-.94-2.06-.94L8.5 2.5l-.94 2.06-2.06.94zm10 10l.94 2.06.94-2.06 2.06-.94-2.06-.94-.94-2.06-.94 2.06-2.06.94z\"/><path d=\"M17.41 7.96l-1.37-1.37c-.4-.4-.92-.59-1.43-.59-.52 0-1.04.2-1.43.59L10.3 9.45l-7.72 7.72c-.78.78-.78 2.05 0 2.83L4 21.41c.39.39.9.59 1.41.59.51 0 1.02-.2 1.41-.59l7.78-7.78 2.81-2.81c.8-.78.8-2.07 0-2.86zM5.41 20L4 18.59l7.72-7.72 1.47 1.35L5.41 20z\"/>\n",
              "  </svg>\n",
              "      </button>\n",
              "      \n",
              "  <style>\n",
              "    .colab-df-container {\n",
              "      display:flex;\n",
              "      flex-wrap:wrap;\n",
              "      gap: 12px;\n",
              "    }\n",
              "\n",
              "    .colab-df-convert {\n",
              "      background-color: #E8F0FE;\n",
              "      border: none;\n",
              "      border-radius: 50%;\n",
              "      cursor: pointer;\n",
              "      display: none;\n",
              "      fill: #1967D2;\n",
              "      height: 32px;\n",
              "      padding: 0 0 0 0;\n",
              "      width: 32px;\n",
              "    }\n",
              "\n",
              "    .colab-df-convert:hover {\n",
              "      background-color: #E2EBFA;\n",
              "      box-shadow: 0px 1px 2px rgba(60, 64, 67, 0.3), 0px 1px 3px 1px rgba(60, 64, 67, 0.15);\n",
              "      fill: #174EA6;\n",
              "    }\n",
              "\n",
              "    [theme=dark] .colab-df-convert {\n",
              "      background-color: #3B4455;\n",
              "      fill: #D2E3FC;\n",
              "    }\n",
              "\n",
              "    [theme=dark] .colab-df-convert:hover {\n",
              "      background-color: #434B5C;\n",
              "      box-shadow: 0px 1px 3px 1px rgba(0, 0, 0, 0.15);\n",
              "      filter: drop-shadow(0px 1px 2px rgba(0, 0, 0, 0.3));\n",
              "      fill: #FFFFFF;\n",
              "    }\n",
              "  </style>\n",
              "\n",
              "      <script>\n",
              "        const buttonEl =\n",
              "          document.querySelector('#df-22f6bb38-6f83-4070-9eba-0d8d0367894f button.colab-df-convert');\n",
              "        buttonEl.style.display =\n",
              "          google.colab.kernel.accessAllowed ? 'block' : 'none';\n",
              "\n",
              "        async function convertToInteractive(key) {\n",
              "          const element = document.querySelector('#df-22f6bb38-6f83-4070-9eba-0d8d0367894f');\n",
              "          const dataTable =\n",
              "            await google.colab.kernel.invokeFunction('convertToInteractive',\n",
              "                                                     [key], {});\n",
              "          if (!dataTable) return;\n",
              "\n",
              "          const docLinkHtml = 'Like what you see? Visit the ' +\n",
              "            '<a target=\"_blank\" href=https://colab.research.google.com/notebooks/data_table.ipynb>data table notebook</a>'\n",
              "            + ' to learn more about interactive tables.';\n",
              "          element.innerHTML = '';\n",
              "          dataTable['output_type'] = 'display_data';\n",
              "          await google.colab.output.renderOutput(dataTable, element);\n",
              "          const docLink = document.createElement('div');\n",
              "          docLink.innerHTML = docLinkHtml;\n",
              "          element.appendChild(docLink);\n",
              "        }\n",
              "      </script>\n",
              "    </div>\n",
              "  </div>\n",
              "  "
            ]
          },
          "metadata": {},
          "execution_count": 16
        }
      ]
    },
    {
      "cell_type": "code",
      "source": [
        "df.loc[df['is_death'] == 1].head()"
      ],
      "metadata": {
        "execution": {
          "iopub.status.busy": "2022-08-30T20:36:04.972093Z",
          "iopub.execute_input": "2022-08-30T20:36:04.972699Z",
          "iopub.status.idle": "2022-08-30T20:36:04.985655Z",
          "shell.execute_reply.started": "2022-08-30T20:36:04.972665Z",
          "shell.execute_reply": "2022-08-30T20:36:04.984670Z"
        },
        "trusted": true,
        "colab": {
          "base_uri": "https://localhost:8080/",
          "height": 270
        },
        "id": "orCgqFaWhrie",
        "outputId": "75579410-0cbd-491f-9627-1218eaff1a66"
      },
      "execution_count": 17,
      "outputs": [
        {
          "output_type": "execute_result",
          "data": {
            "text/plain": [
              "    couple_id  year_marriage  are_seperated  is_death  religion  death_year  \\\n",
              "20         21           2010              0         1         1        2020   \n",
              "26         27           2008              0         1         3        2017   \n",
              "46         47           2008              0         1         3        2011   \n",
              "51         52           2008              0         1         4        2019   \n",
              "52         53           2005              0         1         4        2007   \n",
              "\n",
              "    years_together  year_seperation  years_since_start  is_censored  \n",
              "20              10                0                  5            1  \n",
              "26               9                0                  3            1  \n",
              "46               3                0                  3            1  \n",
              "51              11                0                  3            1  \n",
              "52               2                0                  0            1  "
            ],
            "text/html": [
              "\n",
              "  <div id=\"df-fd8be100-41a1-440d-9b8d-836b7e12521e\">\n",
              "    <div class=\"colab-df-container\">\n",
              "      <div>\n",
              "<style scoped>\n",
              "    .dataframe tbody tr th:only-of-type {\n",
              "        vertical-align: middle;\n",
              "    }\n",
              "\n",
              "    .dataframe tbody tr th {\n",
              "        vertical-align: top;\n",
              "    }\n",
              "\n",
              "    .dataframe thead th {\n",
              "        text-align: right;\n",
              "    }\n",
              "</style>\n",
              "<table border=\"1\" class=\"dataframe\">\n",
              "  <thead>\n",
              "    <tr style=\"text-align: right;\">\n",
              "      <th></th>\n",
              "      <th>couple_id</th>\n",
              "      <th>year_marriage</th>\n",
              "      <th>are_seperated</th>\n",
              "      <th>is_death</th>\n",
              "      <th>religion</th>\n",
              "      <th>death_year</th>\n",
              "      <th>years_together</th>\n",
              "      <th>year_seperation</th>\n",
              "      <th>years_since_start</th>\n",
              "      <th>is_censored</th>\n",
              "    </tr>\n",
              "  </thead>\n",
              "  <tbody>\n",
              "    <tr>\n",
              "      <th>20</th>\n",
              "      <td>21</td>\n",
              "      <td>2010</td>\n",
              "      <td>0</td>\n",
              "      <td>1</td>\n",
              "      <td>1</td>\n",
              "      <td>2020</td>\n",
              "      <td>10</td>\n",
              "      <td>0</td>\n",
              "      <td>5</td>\n",
              "      <td>1</td>\n",
              "    </tr>\n",
              "    <tr>\n",
              "      <th>26</th>\n",
              "      <td>27</td>\n",
              "      <td>2008</td>\n",
              "      <td>0</td>\n",
              "      <td>1</td>\n",
              "      <td>3</td>\n",
              "      <td>2017</td>\n",
              "      <td>9</td>\n",
              "      <td>0</td>\n",
              "      <td>3</td>\n",
              "      <td>1</td>\n",
              "    </tr>\n",
              "    <tr>\n",
              "      <th>46</th>\n",
              "      <td>47</td>\n",
              "      <td>2008</td>\n",
              "      <td>0</td>\n",
              "      <td>1</td>\n",
              "      <td>3</td>\n",
              "      <td>2011</td>\n",
              "      <td>3</td>\n",
              "      <td>0</td>\n",
              "      <td>3</td>\n",
              "      <td>1</td>\n",
              "    </tr>\n",
              "    <tr>\n",
              "      <th>51</th>\n",
              "      <td>52</td>\n",
              "      <td>2008</td>\n",
              "      <td>0</td>\n",
              "      <td>1</td>\n",
              "      <td>4</td>\n",
              "      <td>2019</td>\n",
              "      <td>11</td>\n",
              "      <td>0</td>\n",
              "      <td>3</td>\n",
              "      <td>1</td>\n",
              "    </tr>\n",
              "    <tr>\n",
              "      <th>52</th>\n",
              "      <td>53</td>\n",
              "      <td>2005</td>\n",
              "      <td>0</td>\n",
              "      <td>1</td>\n",
              "      <td>4</td>\n",
              "      <td>2007</td>\n",
              "      <td>2</td>\n",
              "      <td>0</td>\n",
              "      <td>0</td>\n",
              "      <td>1</td>\n",
              "    </tr>\n",
              "  </tbody>\n",
              "</table>\n",
              "</div>\n",
              "      <button class=\"colab-df-convert\" onclick=\"convertToInteractive('df-fd8be100-41a1-440d-9b8d-836b7e12521e')\"\n",
              "              title=\"Convert this dataframe to an interactive table.\"\n",
              "              style=\"display:none;\">\n",
              "        \n",
              "  <svg xmlns=\"http://www.w3.org/2000/svg\" height=\"24px\"viewBox=\"0 0 24 24\"\n",
              "       width=\"24px\">\n",
              "    <path d=\"M0 0h24v24H0V0z\" fill=\"none\"/>\n",
              "    <path d=\"M18.56 5.44l.94 2.06.94-2.06 2.06-.94-2.06-.94-.94-2.06-.94 2.06-2.06.94zm-11 1L8.5 8.5l.94-2.06 2.06-.94-2.06-.94L8.5 2.5l-.94 2.06-2.06.94zm10 10l.94 2.06.94-2.06 2.06-.94-2.06-.94-.94-2.06-.94 2.06-2.06.94z\"/><path d=\"M17.41 7.96l-1.37-1.37c-.4-.4-.92-.59-1.43-.59-.52 0-1.04.2-1.43.59L10.3 9.45l-7.72 7.72c-.78.78-.78 2.05 0 2.83L4 21.41c.39.39.9.59 1.41.59.51 0 1.02-.2 1.41-.59l7.78-7.78 2.81-2.81c.8-.78.8-2.07 0-2.86zM5.41 20L4 18.59l7.72-7.72 1.47 1.35L5.41 20z\"/>\n",
              "  </svg>\n",
              "      </button>\n",
              "      \n",
              "  <style>\n",
              "    .colab-df-container {\n",
              "      display:flex;\n",
              "      flex-wrap:wrap;\n",
              "      gap: 12px;\n",
              "    }\n",
              "\n",
              "    .colab-df-convert {\n",
              "      background-color: #E8F0FE;\n",
              "      border: none;\n",
              "      border-radius: 50%;\n",
              "      cursor: pointer;\n",
              "      display: none;\n",
              "      fill: #1967D2;\n",
              "      height: 32px;\n",
              "      padding: 0 0 0 0;\n",
              "      width: 32px;\n",
              "    }\n",
              "\n",
              "    .colab-df-convert:hover {\n",
              "      background-color: #E2EBFA;\n",
              "      box-shadow: 0px 1px 2px rgba(60, 64, 67, 0.3), 0px 1px 3px 1px rgba(60, 64, 67, 0.15);\n",
              "      fill: #174EA6;\n",
              "    }\n",
              "\n",
              "    [theme=dark] .colab-df-convert {\n",
              "      background-color: #3B4455;\n",
              "      fill: #D2E3FC;\n",
              "    }\n",
              "\n",
              "    [theme=dark] .colab-df-convert:hover {\n",
              "      background-color: #434B5C;\n",
              "      box-shadow: 0px 1px 3px 1px rgba(0, 0, 0, 0.15);\n",
              "      filter: drop-shadow(0px 1px 2px rgba(0, 0, 0, 0.3));\n",
              "      fill: #FFFFFF;\n",
              "    }\n",
              "  </style>\n",
              "\n",
              "      <script>\n",
              "        const buttonEl =\n",
              "          document.querySelector('#df-fd8be100-41a1-440d-9b8d-836b7e12521e button.colab-df-convert');\n",
              "        buttonEl.style.display =\n",
              "          google.colab.kernel.accessAllowed ? 'block' : 'none';\n",
              "\n",
              "        async function convertToInteractive(key) {\n",
              "          const element = document.querySelector('#df-fd8be100-41a1-440d-9b8d-836b7e12521e');\n",
              "          const dataTable =\n",
              "            await google.colab.kernel.invokeFunction('convertToInteractive',\n",
              "                                                     [key], {});\n",
              "          if (!dataTable) return;\n",
              "\n",
              "          const docLinkHtml = 'Like what you see? Visit the ' +\n",
              "            '<a target=\"_blank\" href=https://colab.research.google.com/notebooks/data_table.ipynb>data table notebook</a>'\n",
              "            + ' to learn more about interactive tables.';\n",
              "          element.innerHTML = '';\n",
              "          dataTable['output_type'] = 'display_data';\n",
              "          await google.colab.output.renderOutput(dataTable, element);\n",
              "          const docLink = document.createElement('div');\n",
              "          docLink.innerHTML = docLinkHtml;\n",
              "          element.appendChild(docLink);\n",
              "        }\n",
              "      </script>\n",
              "    </div>\n",
              "  </div>\n",
              "  "
            ]
          },
          "metadata": {},
          "execution_count": 17
        }
      ]
    },
    {
      "cell_type": "code",
      "source": [
        "import matplotlib.pyplot as plt"
      ],
      "metadata": {
        "execution": {
          "iopub.status.busy": "2022-08-30T20:16:33.109955Z",
          "iopub.execute_input": "2022-08-30T20:16:33.110949Z",
          "iopub.status.idle": "2022-08-30T20:16:33.116388Z",
          "shell.execute_reply.started": "2022-08-30T20:16:33.110881Z",
          "shell.execute_reply": "2022-08-30T20:16:33.115354Z"
        },
        "trusted": true,
        "id": "Azgmz-50hrie"
      },
      "execution_count": 18,
      "outputs": []
    },
    {
      "cell_type": "code",
      "source": [
        "    for y, row in df.iloc[1:24,].iterrows():\n",
        "        start = row['years_since_start']\n",
        "        end = row['years_since_start'] + row['years_together']\n",
        "        \n",
        "        if row['are_seperated'] == 1:\n",
        "            status = 1\n",
        "        elif row['is_death'] == 1 or row['are_seperated'] == 0:\n",
        "            status = 0\n",
        "            \n",
        "        if status == 1:\n",
        "            # when event (divorce occured)\n",
        "            plt.hlines(y, start, end, color='C0')\n",
        "            plt.plot(end, y, marker='x', color='C0')\n",
        "        else:\n",
        "            # When data is sensored either due to death or reaching the maximum of observation period without event\n",
        "            plt.hlines(y, start, end, color='C1')\n",
        "            plt.plot(end, y, marker='o', color='C1')\n",
        "            \n",
        "    plt.xlabel('Time (years)')\n",
        "    plt.ylabel('couple ID')\n",
        "    plt.gca().invert_yaxis()\n",
        "    plt.suptitle('Entry-Death-Censored-Seperated Plot', fontsize = 20);"
      ],
      "metadata": {
        "execution": {
          "iopub.status.busy": "2022-08-30T20:43:22.527437Z",
          "iopub.execute_input": "2022-08-30T20:43:22.527857Z",
          "iopub.status.idle": "2022-08-30T20:43:22.889859Z",
          "shell.execute_reply.started": "2022-08-30T20:43:22.527824Z",
          "shell.execute_reply": "2022-08-30T20:43:22.888690Z"
        },
        "trusted": true,
        "colab": {
          "base_uri": "https://localhost:8080/",
          "height": 584
        },
        "id": "iXFgDLD1hrif",
        "outputId": "8c4b5f58-3d41-481d-95d1-142ee0fbde08"
      },
      "execution_count": 19,
      "outputs": [
        {
          "output_type": "display_data",
          "data": {
            "text/plain": [
              "<Figure size 1440x720 with 1 Axes>"
            ],
            "image/png": "[encoded data removed]"
          },
          "metadata": {
            "needs_background": "light"
          }
        }
      ]
    },
    {
      "cell_type": "markdown",
      "source": [
        "### The X indicates occurance of event\n",
        "### The O indicates observation censored\n"
      ],
      "metadata": {
        "id": "iqVBAVKuhrif"
      }
    },
    {
      "cell_type": "markdown",
      "source": [
        "## Analysis"
      ],
      "metadata": {
        "id": "5eUPf1u3hrif"
      }
    },
    {
      "cell_type": "code",
      "source": [
        "kmf = KaplanMeierFitter()\n",
        "kmf.fit(durations = df['years_together'],\n",
        "        event_observed=df['are_seperated'],\n",
        "       )\n",
        "kmf.plot(at_risk_counts=True)\n",
        "plt.title('Kaplan-Meier Curve', fontsize = 20);"
      ],
      "metadata": {
        "execution": {
          "iopub.status.busy": "2022-08-30T20:43:38.950514Z",
          "iopub.execute_input": "2022-08-30T20:43:38.950948Z",
          "iopub.status.idle": "2022-08-30T20:43:39.559081Z",
          "shell.execute_reply.started": "2022-08-30T20:43:38.950889Z",
          "shell.execute_reply": "2022-08-30T20:43:39.557893Z"
        },
        "trusted": true,
        "colab": {
          "base_uri": "https://localhost:8080/",
          "height": 534
        },
        "id": "kKJ0SVWthrif",
        "outputId": "31206f1d-55e8-432a-a09a-fdf874926730"
      },
      "execution_count": 20,
      "outputs": [
        {
          "output_type": "display_data",
          "data": {
            "text/plain": [
              "<Figure size 1440x720 with 2 Axes>"
            ],
            "image/png": "[encoded data removed]"
          },
          "metadata": {
            "needs_background": "light"
          }
        }
      ]
    },
    {
      "cell_type": "markdown",
      "source": [
        "### As can be seen from the curve above, over 75% of couples are not divorced before 13 years\n",
        "### And over 70% of couples did not divorce before end the end of study period\n",
        "### The curve does not have significantly variable drops at different periods, however has a stair case pattern (because that is how the data was generated)"
      ],
      "metadata": {
        "id": "2LDdClTahrif"
      }
    },
    {
      "cell_type": "code",
      "source": [
        "(df['is_death'] == 1).sum() + \\\n",
        "        ((df['is_death'] != 1) & (df['are_seperated'] == 0)).sum()"
      ],
      "metadata": {
        "execution": {
          "iopub.status.busy": "2022-08-30T20:38:46.879433Z",
          "iopub.execute_input": "2022-08-30T20:38:46.879903Z",
          "iopub.status.idle": "2022-08-30T20:38:46.890519Z",
          "shell.execute_reply.started": "2022-08-30T20:38:46.879864Z",
          "shell.execute_reply": "2022-08-30T20:38:46.889453Z"
        },
        "trusted": true,
        "colab": {
          "base_uri": "https://localhost:8080/"
        },
        "id": "OQCjCk7Lhrig",
        "outputId": "090400a5-41ce-4e84-bf9a-a6a913e60850"
      },
      "execution_count": 21,
      "outputs": [
        {
          "output_type": "execute_result",
          "data": {
            "text/plain": [
              "748"
            ]
          },
          "metadata": {},
          "execution_count": 21
        }
      ]
    },
    {
      "cell_type": "markdown",
      "source": [
        "### Compare years to seperation between couples of different regions (Kaplan Meier)"
      ],
      "metadata": {
        "id": "bmxMKWoZhrig"
      }
    },
    {
      "cell_type": "code",
      "source": [
        "ax = plt.subplot(111)\n",
        "\n",
        "kmf = KaplanMeierFitter()\n",
        "\n",
        "for religion in df['religion'].unique():\n",
        "    \n",
        "    flag = df['religion'] == religion\n",
        "    \n",
        "    kmf.fit(df.loc[flag]['years_together'], event_observed = df.loc[flag]['are_seperated'], label = religion, )\n",
        "    kmf.plot(ax=ax, ci_show = False)"
      ],
      "metadata": {
        "execution": {
          "iopub.status.busy": "2022-08-30T20:43:59.421077Z",
          "iopub.execute_input": "2022-08-30T20:43:59.421780Z",
          "iopub.status.idle": "2022-08-30T20:43:59.822301Z",
          "shell.execute_reply.started": "2022-08-30T20:43:59.421739Z",
          "shell.execute_reply": "2022-08-30T20:43:59.821416Z"
        },
        "trusted": true,
        "colab": {
          "base_uri": "https://localhost:8080/",
          "height": 525
        },
        "id": "3N765FKghrig",
        "outputId": "1c1c4c96-6b35-496b-f12d-a91401f0d84b"
      },
      "execution_count": 22,
      "outputs": [
        {
          "output_type": "display_data",
          "data": {
            "text/plain": [
              "<Figure size 1440x720 with 1 Axes>"
            ],
            "image/png": "[encoded data removed]"
          },
          "metadata": {
            "needs_background": "light"
          }
        }
      ]
    },
    {
      "cell_type": "markdown",
      "source": [
        "### It can been observed that the numbe or years of survival of marriage among Religion - 1 (Hindus) is relatively lower compared to the other 3 religions, let us check if the differnce is significance**"
      ],
      "metadata": {
        "id": "dPr9Jteyhrig"
      }
    },
    {
      "cell_type": "markdown",
      "source": [
        "### Compare years to seperation between couples of different regions (logrank test)"
      ],
      "metadata": {
        "id": "JPiRf49mhrig"
      }
    },
    {
      "cell_type": "code",
      "source": [
        "from lifelines.statistics import logrank_test, pairwise_logrank_test\n",
        "\n",
        "\n",
        "religion_flag_1 = df['religion'] == 1\n",
        "religion_flag_2 = df['religion'] == 2\n",
        "religion_flag_3 = df['religion'] == 3\n",
        "religion_flag_4 = df['religion'] == 4\n",
        "\n",
        "T = df.are_seperated\n",
        "E = df.years_together\n",
        "\n",
        "\n",
        "results = logrank_test(E[religion_flag_1], \n",
        "                       E[religion_flag_4], \n",
        "                       T[religion_flag_1], \n",
        "                       T[religion_flag_4])\n",
        "results.print_summary()"
      ],
      "metadata": {
        "execution": {
          "iopub.status.busy": "2022-08-30T20:17:33.332719Z",
          "iopub.execute_input": "2022-08-30T20:17:33.333239Z",
          "iopub.status.idle": "2022-08-30T20:17:33.403421Z",
          "shell.execute_reply.started": "2022-08-30T20:17:33.333189Z",
          "shell.execute_reply": "2022-08-30T20:17:33.402160Z"
        },
        "trusted": true,
        "colab": {
          "base_uri": "https://localhost:8080/",
          "height": 206
        },
        "id": "j6cbUVWMhrih",
        "outputId": "d6d8ea08-40e1-45db-f81d-34e660fda96a"
      },
      "execution_count": 23,
      "outputs": [
        {
          "output_type": "display_data",
          "data": {
            "text/plain": [
              "<lifelines.StatisticalResult: logrank_test>\n",
              "               t_0 = -1\n",
              " null_distribution = chi squared\n",
              "degrees_of_freedom = 1\n",
              "         test_name = logrank_test\n",
              "\n",
              "---\n",
              " test_statistic    p  -log2(p)\n",
              "           0.03 0.86      0.22"
            ],
            "text/html": [
              "<div>\n",
              "<style scoped>\n",
              "    .dataframe tbody tr th:only-of-type {\n",
              "        vertical-align: middle;\n",
              "    }\n",
              "\n",
              "    .dataframe tbody tr th {\n",
              "        vertical-align: top;\n",
              "    }\n",
              "\n",
              "    .dataframe thead th {\n",
              "        text-align: right;\n",
              "    }\n",
              "</style>\n",
              "<table border=\"1\" class=\"dataframe\">\n",
              "  <tbody>\n",
              "    <tr>\n",
              "      <th>t_0</th>\n",
              "      <td>-1</td>\n",
              "    </tr>\n",
              "    <tr>\n",
              "      <th>null_distribution</th>\n",
              "      <td>chi squared</td>\n",
              "    </tr>\n",
              "    <tr>\n",
              "      <th>degrees_of_freedom</th>\n",
              "      <td>1</td>\n",
              "    </tr>\n",
              "    <tr>\n",
              "      <th>test_name</th>\n",
              "      <td>logrank_test</td>\n",
              "    </tr>\n",
              "  </tbody>\n",
              "</table>\n",
              "</div><table border=\"1\" class=\"dataframe\">\n",
              "  <thead>\n",
              "    <tr style=\"text-align: right;\">\n",
              "      <th></th>\n",
              "      <th>test_statistic</th>\n",
              "      <th>p</th>\n",
              "      <th>-log2(p)</th>\n",
              "    </tr>\n",
              "  </thead>\n",
              "  <tbody>\n",
              "    <tr>\n",
              "      <th>0</th>\n",
              "      <td>0.03</td>\n",
              "      <td>0.86</td>\n",
              "      <td>0.22</td>\n",
              "    </tr>\n",
              "  </tbody>\n",
              "</table>"
            ],
            "text/latex": "\\begin{tabular}{lrrr}\n\\toprule\n{} &  test\\_statistic &        p &  -log2(p) \\\\\n\\midrule\n0 &        0.032718 &  0.85646 &  0.223543 \\\\\n\\bottomrule\n\\end{tabular}\n"
          },
          "metadata": {}
        }
      ]
    },
    {
      "cell_type": "markdown",
      "source": [
        "### No reason to reject the null hypothesis  (survival curves being identical)  as p value is not significant between religin 1 (Hinduism) and religion 4 (Other than Hindu, Christinaty and Islam)."
      ],
      "metadata": {
        "id": "86SQKZQuhrih"
      }
    },
    {
      "cell_type": "code",
      "source": [
        "results = pairwise_logrank_test(df['years_together'], df['religion'], df['are_seperated'])\n",
        "results.print_summary()"
      ],
      "metadata": {
        "execution": {
          "iopub.status.busy": "2022-08-30T20:17:36.722165Z",
          "iopub.execute_input": "2022-08-30T20:17:36.722654Z",
          "iopub.status.idle": "2022-08-30T20:17:36.948824Z",
          "shell.execute_reply.started": "2022-08-30T20:17:36.722615Z",
          "shell.execute_reply": "2022-08-30T20:17:36.947596Z"
        },
        "trusted": true,
        "colab": {
          "base_uri": "https://localhost:8080/",
          "height": 363
        },
        "id": "OVHXy1BFhrih",
        "outputId": "a56b51e8-7ccf-40e4-8e14-afba2100ca16"
      },
      "execution_count": 24,
      "outputs": [
        {
          "output_type": "display_data",
          "data": {
            "text/plain": [
              "<lifelines.StatisticalResult: logrank_test>\n",
              "               t_0 = -1\n",
              " null_distribution = chi squared\n",
              "degrees_of_freedom = 1\n",
              "         test_name = logrank_test\n",
              "\n",
              "---\n",
              "     test_statistic      p  -log2(p)\n",
              "1 2            8.62 <0.005      8.23\n",
              "  3            3.43   0.06      3.96\n",
              "  4            0.03   0.86      0.22\n",
              "2 3            0.17   0.68      0.56\n",
              "  4            7.78   0.01      7.56\n",
              "3 4            3.06   0.08      3.64"
            ],
            "text/html": [
              "<div>\n",
              "<style scoped>\n",
              "    .dataframe tbody tr th:only-of-type {\n",
              "        vertical-align: middle;\n",
              "    }\n",
              "\n",
              "    .dataframe tbody tr th {\n",
              "        vertical-align: top;\n",
              "    }\n",
              "\n",
              "    .dataframe thead th {\n",
              "        text-align: right;\n",
              "    }\n",
              "</style>\n",
              "<table border=\"1\" class=\"dataframe\">\n",
              "  <tbody>\n",
              "    <tr>\n",
              "      <th>t_0</th>\n",
              "      <td>-1</td>\n",
              "    </tr>\n",
              "    <tr>\n",
              "      <th>null_distribution</th>\n",
              "      <td>chi squared</td>\n",
              "    </tr>\n",
              "    <tr>\n",
              "      <th>degrees_of_freedom</th>\n",
              "      <td>1</td>\n",
              "    </tr>\n",
              "    <tr>\n",
              "      <th>test_name</th>\n",
              "      <td>logrank_test</td>\n",
              "    </tr>\n",
              "  </tbody>\n",
              "</table>\n",
              "</div><table border=\"1\" class=\"dataframe\">\n",
              "  <thead>\n",
              "    <tr style=\"text-align: right;\">\n",
              "      <th></th>\n",
              "      <th></th>\n",
              "      <th>test_statistic</th>\n",
              "      <th>p</th>\n",
              "      <th>-log2(p)</th>\n",
              "    </tr>\n",
              "  </thead>\n",
              "  <tbody>\n",
              "    <tr>\n",
              "      <th rowspan=\"3\" valign=\"top\">1</th>\n",
              "      <th>2</th>\n",
              "      <td>8.62</td>\n",
              "      <td>&lt;0.005</td>\n",
              "      <td>8.23</td>\n",
              "    </tr>\n",
              "    <tr>\n",
              "      <th>3</th>\n",
              "      <td>3.43</td>\n",
              "      <td>0.06</td>\n",
              "      <td>3.96</td>\n",
              "    </tr>\n",
              "    <tr>\n",
              "      <th>4</th>\n",
              "      <td>0.03</td>\n",
              "      <td>0.86</td>\n",
              "      <td>0.22</td>\n",
              "    </tr>\n",
              "    <tr>\n",
              "      <th rowspan=\"2\" valign=\"top\">2</th>\n",
              "      <th>3</th>\n",
              "      <td>0.17</td>\n",
              "      <td>0.68</td>\n",
              "      <td>0.56</td>\n",
              "    </tr>\n",
              "    <tr>\n",
              "      <th>4</th>\n",
              "      <td>7.78</td>\n",
              "      <td>0.01</td>\n",
              "      <td>7.56</td>\n",
              "    </tr>\n",
              "    <tr>\n",
              "      <th>3</th>\n",
              "      <th>4</th>\n",
              "      <td>3.06</td>\n",
              "      <td>0.08</td>\n",
              "      <td>3.64</td>\n",
              "    </tr>\n",
              "  </tbody>\n",
              "</table>"
            ],
            "text/latex": "\\begin{tabular}{llrrr}\n\\toprule\n  &   &  test\\_statistic &         p &  -log2(p) \\\\\n\\midrule\n1 & 2 &        8.619700 &  0.003325 &  8.232228 \\\\\n  & 3 &        3.427410 &  0.064123 &  3.963024 \\\\\n  & 4 &        0.032718 &  0.856460 &  0.223543 \\\\\n2 & 3 &        0.169433 &  0.680616 &  0.555087 \\\\\n  & 4 &        7.776758 &  0.005292 &  7.561898 \\\\\n3 & 4 &        3.058112 &  0.080335 &  3.637828 \\\\\n\\bottomrule\n\\end{tabular}\n"
          },
          "metadata": {}
        }
      ]
    },
    {
      "cell_type": "markdown",
      "source": [
        "### No reason to reject the null hypothesis  (survival curves being identical)  as p value is not significant between any two pair of religions. As p values are not significant."
      ],
      "metadata": {
        "id": "K5TBpPJPhrih"
      }
    },
    {
      "cell_type": "markdown",
      "source": [
        "## Kaplan-Meier summary:\n",
        "\n",
        "### Pros:\n",
        "    flexible, minimal assumptions\n",
        "    fast\n",
        "\n",
        "### Cons:\n",
        "   * Not useful for prediction\n",
        "    Curve is not smooth*"
      ],
      "metadata": {
        "id": "KA-DmyEKhrih"
      }
    },
    {
      "cell_type": "markdown",
      "source": [
        "### Cox Proportionate Hazards Model"
      ],
      "metadata": {
        "id": "9eeb6sbhhrih"
      }
    },
    {
      "cell_type": "code",
      "source": [
        "from lifelines import CoxPHFitter\n",
        "\n",
        "cph = CoxPHFitter()\n",
        "cph.fit(df[['years_together', 'are_seperated', 'religion']],\n",
        "        duration_col='years_together',\n",
        "        event_col='are_seperated')"
      ],
      "metadata": {
        "execution": {
          "iopub.status.busy": "2022-08-30T20:44:27.154278Z",
          "iopub.execute_input": "2022-08-30T20:44:27.154999Z",
          "iopub.status.idle": "2022-08-30T20:44:27.205519Z",
          "shell.execute_reply.started": "2022-08-30T20:44:27.154959Z",
          "shell.execute_reply": "2022-08-30T20:44:27.204226Z"
        },
        "trusted": true,
        "colab": {
          "base_uri": "https://localhost:8080/"
        },
        "id": "q2sUeF9Thrih",
        "outputId": "70a51e08-1100-4638-d1d8-f3268ba1ab1d"
      },
      "execution_count": 25,
      "outputs": [
        {
          "output_type": "execute_result",
          "data": {
            "text/plain": [
              "<lifelines.CoxPHFitter: fitted with 1000 total observations, 748 right-censored observations>"
            ]
          },
          "metadata": {},
          "execution_count": 25
        }
      ]
    },
    {
      "cell_type": "code",
      "source": [
        "cph.print_summary(columns=[\"coef\",\"exp(coef)\",\"exp(coef) lower 95%\",\"exp(coef) upper 95%\", \"z\", \"p\"], decimals=3)"
      ],
      "metadata": {
        "execution": {
          "iopub.status.busy": "2022-08-30T20:44:28.633581Z",
          "iopub.execute_input": "2022-08-30T20:44:28.634343Z",
          "iopub.status.idle": "2022-08-30T20:44:28.709152Z",
          "shell.execute_reply.started": "2022-08-30T20:44:28.634301Z",
          "shell.execute_reply": "2022-08-30T20:44:28.707984Z"
        },
        "trusted": true,
        "colab": {
          "base_uri": "https://localhost:8080/",
          "height": 474
        },
        "id": "B4y0Dd3ghrih",
        "outputId": "b28a2535-5c97-442a-8816-95a00279485a"
      },
      "execution_count": 26,
      "outputs": [
        {
          "output_type": "display_data",
          "data": {
            "text/plain": [
              "<lifelines.CoxPHFitter: fitted with 1000 total observations, 748 right-censored observations>\n",
              "             duration col = 'years_together'\n",
              "                event col = 'are_seperated'\n",
              "      baseline estimation = breslow\n",
              "   number of observations = 1000\n",
              "number of events observed = 252\n",
              "   partial log-likelihood = -1682.182\n",
              "         time fit was run = 2022-08-30 20:56:49 UTC\n",
              "\n",
              "---\n",
              "            coef  exp(coef)  exp(coef) lower 95%  exp(coef) upper 95%      z     p\n",
              "covariate                                                                         \n",
              "religion  -0.007      0.993                0.901                1.094 -0.147 0.883\n",
              "---\n",
              "Concordance = 0.497\n",
              "Partial AIC = 3366.364\n",
              "log-likelihood ratio test = 0.022 on 1 df\n",
              "-log2(p) of ll-ratio test = 0.180"
            ],
            "text/html": [
              "<div>\n",
              "<style scoped>\n",
              "    .dataframe tbody tr th:only-of-type {\n",
              "        vertical-align: middle;\n",
              "    }\n",
              "\n",
              "    .dataframe tbody tr th {\n",
              "        vertical-align: top;\n",
              "    }\n",
              "\n",
              "    .dataframe thead th {\n",
              "        text-align: right;\n",
              "    }\n",
              "</style>\n",
              "<table border=\"1\" class=\"dataframe\">\n",
              "  <tbody>\n",
              "    <tr>\n",
              "      <th>model</th>\n",
              "      <td>lifelines.CoxPHFitter</td>\n",
              "    </tr>\n",
              "    <tr>\n",
              "      <th>duration col</th>\n",
              "      <td>'years_together'</td>\n",
              "    </tr>\n",
              "    <tr>\n",
              "      <th>event col</th>\n",
              "      <td>'are_seperated'</td>\n",
              "    </tr>\n",
              "    <tr>\n",
              "      <th>baseline estimation</th>\n",
              "      <td>breslow</td>\n",
              "    </tr>\n",
              "    <tr>\n",
              "      <th>number of observations</th>\n",
              "      <td>1000</td>\n",
              "    </tr>\n",
              "    <tr>\n",
              "      <th>number of events observed</th>\n",
              "      <td>252</td>\n",
              "    </tr>\n",
              "    <tr>\n",
              "      <th>partial log-likelihood</th>\n",
              "      <td>-1682.182</td>\n",
              "    </tr>\n",
              "    <tr>\n",
              "      <th>time fit was run</th>\n",
              "      <td>2022-08-30 20:56:49 UTC</td>\n",
              "    </tr>\n",
              "  </tbody>\n",
              "</table>\n",
              "</div><table border=\"1\" class=\"dataframe\">\n",
              "  <thead>\n",
              "    <tr style=\"text-align: right;\">\n",
              "      <th style=\"min-width: 12px;\"></th>\n",
              "      <th style=\"min-width: 12px;\">coef</th>\n",
              "      <th style=\"min-width: 12px;\">exp(coef)</th>\n",
              "      <th style=\"min-width: 12px;\">exp(coef) lower 95%</th>\n",
              "      <th style=\"min-width: 12px;\">exp(coef) upper 95%</th>\n",
              "      <th style=\"min-width: 12px;\">z</th>\n",
              "      <th style=\"min-width: 12px;\">p</th>\n",
              "    </tr>\n",
              "  </thead>\n",
              "  <tbody>\n",
              "    <tr>\n",
              "      <th>religion</th>\n",
              "      <td>-0.007</td>\n",
              "      <td>0.993</td>\n",
              "      <td>0.901</td>\n",
              "      <td>1.094</td>\n",
              "      <td>-0.147</td>\n",
              "      <td>0.883</td>\n",
              "    </tr>\n",
              "  </tbody>\n",
              "</table><br><div>\n",
              "<style scoped>\n",
              "    .dataframe tbody tr th:only-of-type {\n",
              "        vertical-align: middle;\n",
              "    }\n",
              "\n",
              "    .dataframe tbody tr th {\n",
              "        vertical-align: top;\n",
              "    }\n",
              "\n",
              "    .dataframe thead th {\n",
              "        text-align: right;\n",
              "    }\n",
              "</style>\n",
              "<table border=\"1\" class=\"dataframe\">\n",
              "  <tbody>\n",
              "    <tr>\n",
              "      <th>Concordance</th>\n",
              "      <td>0.497</td>\n",
              "    </tr>\n",
              "    <tr>\n",
              "      <th>Partial AIC</th>\n",
              "      <td>3366.364</td>\n",
              "    </tr>\n",
              "    <tr>\n",
              "      <th>log-likelihood ratio test</th>\n",
              "      <td>0.022 on 1 df</td>\n",
              "    </tr>\n",
              "    <tr>\n",
              "      <th>-log2(p) of ll-ratio test</th>\n",
              "      <td>0.180</td>\n",
              "    </tr>\n",
              "  </tbody>\n",
              "</table>\n",
              "</div>"
            ],
            "text/latex": "\\begin{tabular}{lrrrrrr}\n\\toprule\n{} &   coef &  exp(coef) &  exp(coef) lower 95\\% &  exp(coef) upper 95\\% &      z &     p \\\\\ncovariate &        &            &                      &                      &        &       \\\\\n\\midrule\nreligion  & -0.007 &      0.993 &                0.901 &                1.094 & -0.147 & 0.883 \\\\\n\\bottomrule\n\\end{tabular}\n"
          },
          "metadata": {}
        }
      ]
    },
    {
      "cell_type": "markdown",
      "source": [
        "### CPH can be used to predit survial times of cases in test sample, if the dataset is split into train, test sets"
      ],
      "metadata": {
        "id": "uA31dJsDhrii"
      }
    },
    {
      "cell_type": "markdown",
      "source": [
        "## Summary\n",
        "\n",
        "#### Survival Analyis to be used when there is time to event data and censorship of observations\n",
        "#### such as below\n",
        "* Time to employee churn\n",
        "* Time to machine failure\n",
        "* Time to a personal event (Child birth)\n",
        "#### There are both parametric (COX) and non parametric (Kaplan Meier) techniques to apply on such dataset"
      ],
      "metadata": {
        "id": "nXWD1jYWhrii"
      }
    }
  ]
}